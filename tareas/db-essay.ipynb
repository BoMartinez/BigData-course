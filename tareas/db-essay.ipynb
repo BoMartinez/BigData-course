{
 "cells": [
  {
   "cell_type": "markdown",
   "id": "square-terminology",
   "metadata": {},
   "source": [
    "Documento presentado como tarea del curso *Métodos Intensivos de Computación Estadística* <br>\n",
    "Elaborado por Boris Mauricio Martinez Gutierrez"
   ]
  },
  {
   "cell_type": "markdown",
   "id": "another-freeze",
   "metadata": {},
   "source": [
    "# Bases de Datos Relacionales - SQL"
   ]
  },
  {
   "cell_type": "markdown",
   "id": "mathematical-positive",
   "metadata": {},
   "source": [
    "## Contenido"
   ]
  },
  {
   "cell_type": "markdown",
   "id": "representative-broadcasting",
   "metadata": {},
   "source": [
    "**1.** Instalación de las Bases de Datos\n",
    "\n",
    "**2.** Diagramas Entidad-Relación\n",
    "\n",
    "**3.** Diseño e Implementación de las bases de datos\n",
    "\n",
    "**4.** Consultas a las Bases de Datos\n",
    "\n",
    "**5.** Procedimientos, Triggers y Funciones\n",
    "\n",
    "**6.** Análisis estadístico con Python"
   ]
  },
  {
   "cell_type": "markdown",
   "id": "bizarre-desert",
   "metadata": {},
   "source": [
    "## 1. Instalación de las Bases de Datos"
   ]
  },
  {
   "cell_type": "markdown",
   "id": "assured-exception",
   "metadata": {},
   "source": [
    "Los archivos que contienen los esquemas y los datos de cada base de datos fueron previamente descargados del sitio web: https://dev.mysql.com/doc/index-other.html.<br>\n",
    "Los siguientes comandos se ejecutan directamente en el cliente de *mysql*."
   ]
  },
  {
   "cell_type": "markdown",
   "id": "intense-classroom",
   "metadata": {},
   "source": [
    "### 1.1. employees DB"
   ]
  },
  {
   "cell_type": "markdown",
   "id": "intense-welcome",
   "metadata": {},
   "source": [
    "Previo a la instalación, se modifica la ruta de los *dump-files* en el archivo <code>employees.sql</code>"
   ]
  },
  {
   "cell_type": "code",
   "execution_count": 14,
   "id": "smooth-robert",
   "metadata": {},
   "outputs": [
    {
     "data": {
      "text/html": []
     },
     "metadata": {},
     "output_type": "display_data"
    }
   ],
   "source": [
    "source /home/boris/Descargas/employees/employees.sql;"
   ]
  },
  {
   "cell_type": "code",
   "execution_count": null,
   "id": "accomplished-washington",
   "metadata": {},
   "outputs": [],
   "source": [
    "use employees;"
   ]
  },
  {
   "cell_type": "code",
   "execution_count": 17,
   "id": "optional-translator",
   "metadata": {},
   "outputs": [
    {
     "data": {
      "text/html": [
       "<TABLE BORDER=1><TR><TH>Tables_in_employees</TH></TR><TR><TD>current_dept_emp</TD></TR><TR><TD>departments</TD></TR><TR><TD>dept_emp</TD></TR><TR><TD>dept_emp_latest_date</TD></TR><TR><TD>dept_manager</TD></TR><TR><TD>employees</TD></TR><TR><TD>salaries</TD></TR><TR><TD>titles</TD></TR></TABLE>"
      ]
     },
     "metadata": {},
     "output_type": "display_data"
    }
   ],
   "source": [
    "show tables;"
   ]
  },
  {
   "cell_type": "code",
   "execution_count": 26,
   "id": "ordinary-field",
   "metadata": {},
   "outputs": [
    {
     "data": {
      "text/html": [
       "<TABLE BORDER=1><TR><TH>Field</TH><TH>Type</TH><TH>Null</TH><TH>Key</TH><TH>Default</TH><TH>Extra</TH></TR><TR><TD>emp_no</TD><TD>int(11)</TD><TD>NO</TD><TD>PRI</TD><TD>NULL</TD><TD></TD></TR><TR><TD>birth_date</TD><TD>date</TD><TD>NO</TD><TD></TD><TD>NULL</TD><TD></TD></TR><TR><TD>first_name</TD><TD>varchar(14)</TD><TD>NO</TD><TD></TD><TD>NULL</TD><TD></TD></TR><TR><TD>last_name</TD><TD>varchar(16)</TD><TD>NO</TD><TD></TD><TD>NULL</TD><TD></TD></TR><TR><TD>gender</TD><TD>enum('M','F')</TD><TD>NO</TD><TD></TD><TD>NULL</TD><TD></TD></TR><TR><TD>hire_date</TD><TD>date</TD><TD>NO</TD><TD></TD><TD>NULL</TD><TD></TD></TR></TABLE>"
      ]
     },
     "metadata": {},
     "output_type": "display_data"
    }
   ],
   "source": [
    "describe employees;"
   ]
  },
  {
   "cell_type": "code",
   "execution_count": 28,
   "id": "dress-proof",
   "metadata": {},
   "outputs": [
    {
     "data": {
      "text/html": [
       "<TABLE BORDER=1><TR><TH>Field</TH><TH>Type</TH><TH>Null</TH><TH>Key</TH><TH>Default</TH><TH>Extra</TH></TR><TR><TD>emp_no</TD><TD>int(11)</TD><TD>NO</TD><TD>PRI</TD><TD>NULL</TD><TD></TD></TR><TR><TD>salary</TD><TD>int(11)</TD><TD>NO</TD><TD></TD><TD>NULL</TD><TD></TD></TR><TR><TD>from_date</TD><TD>date</TD><TD>NO</TD><TD>PRI</TD><TD>NULL</TD><TD></TD></TR><TR><TD>to_date</TD><TD>date</TD><TD>NO</TD><TD></TD><TD>NULL</TD><TD></TD></TR></TABLE>"
      ]
     },
     "metadata": {},
     "output_type": "display_data"
    }
   ],
   "source": [
    "describe salaries;"
   ]
  },
  {
   "cell_type": "markdown",
   "id": "spare-lemon",
   "metadata": {
    "tags": []
   },
   "source": [
    "### 1.2. world DB"
   ]
  },
  {
   "cell_type": "code",
   "execution_count": null,
   "id": "musical-semester",
   "metadata": {},
   "outputs": [],
   "source": [
    "source /home/boris/Descargas/world/world.sql;"
   ]
  },
  {
   "cell_type": "code",
   "execution_count": null,
   "id": "rising-asbestos",
   "metadata": {},
   "outputs": [],
   "source": [
    "use world;"
   ]
  },
  {
   "cell_type": "code",
   "execution_count": 32,
   "id": "horizontal-enterprise",
   "metadata": {},
   "outputs": [
    {
     "data": {
      "text/html": [
       "<TABLE BORDER=1><TR><TH>Tables_in_world</TH></TR><TR><TD>city</TD></TR><TR><TD>country</TD></TR><TR><TD>countrylanguage</TD></TR></TABLE>"
      ]
     },
     "metadata": {},
     "output_type": "display_data"
    }
   ],
   "source": [
    "show tables;"
   ]
  },
  {
   "cell_type": "code",
   "execution_count": 34,
   "id": "useful-house",
   "metadata": {},
   "outputs": [
    {
     "data": {
      "text/html": [
       "<TABLE BORDER=1><TR><TH>Field</TH><TH>Type</TH><TH>Null</TH><TH>Key</TH><TH>Default</TH><TH>Extra</TH></TR><TR><TD>Code</TD><TD>char(3)</TD><TD>NO</TD><TD>PRI</TD><TD></TD><TD></TD></TR><TR><TD>Name</TD><TD>char(52)</TD><TD>NO</TD><TD></TD><TD></TD><TD></TD></TR><TR><TD>Continent</TD><TD>enum('Asia','Europe','North America','Africa','Oceania','Antarctica','South America')</TD><TD>NO</TD><TD></TD><TD>Asia</TD><TD></TD></TR><TR><TD>Region</TD><TD>char(26)</TD><TD>NO</TD><TD></TD><TD></TD><TD></TD></TR><TR><TD>SurfaceArea</TD><TD>decimal(10,2)</TD><TD>NO</TD><TD></TD><TD>0.00</TD><TD></TD></TR><TR><TD>IndepYear</TD><TD>smallint(6)</TD><TD>YES</TD><TD></TD><TD>NULL</TD><TD></TD></TR><TR><TD>Population</TD><TD>int(11)</TD><TD>NO</TD><TD></TD><TD>0</TD><TD></TD></TR><TR><TD>LifeExpectancy</TD><TD>decimal(3,1)</TD><TD>YES</TD><TD></TD><TD>NULL</TD><TD></TD></TR><TR><TD>GNP</TD><TD>decimal(10,2)</TD><TD>YES</TD><TD></TD><TD>NULL</TD><TD></TD></TR><TR><TD>GNPOld</TD><TD>decimal(10,2)</TD><TD>YES</TD><TD></TD><TD>NULL</TD><TD></TD></TR><TR><TD>LocalName</TD><TD>char(45)</TD><TD>NO</TD><TD></TD><TD></TD><TD></TD></TR><TR><TD>GovernmentForm</TD><TD>char(45)</TD><TD>NO</TD><TD></TD><TD></TD><TD></TD></TR><TR><TD>HeadOfState</TD><TD>char(60)</TD><TD>YES</TD><TD></TD><TD>NULL</TD><TD></TD></TR><TR><TD>Capital</TD><TD>int(11)</TD><TD>YES</TD><TD></TD><TD>NULL</TD><TD></TD></TR><TR><TD>Code2</TD><TD>char(2)</TD><TD>NO</TD><TD></TD><TD></TD><TD></TD></TR></TABLE>"
      ]
     },
     "metadata": {},
     "output_type": "display_data"
    }
   ],
   "source": [
    "describe country;"
   ]
  },
  {
   "cell_type": "markdown",
   "id": "stylish-registration",
   "metadata": {},
   "source": [
    "### 1.3. world_x DB"
   ]
  },
  {
   "cell_type": "code",
   "execution_count": null,
   "id": "promotional-alloy",
   "metadata": {},
   "outputs": [],
   "source": [
    "source /home/boris/Descargas/world_x-db/world_x.sql;"
   ]
  },
  {
   "cell_type": "code",
   "execution_count": null,
   "id": "suspended-silence",
   "metadata": {},
   "outputs": [],
   "source": [
    "use world_x;"
   ]
  },
  {
   "cell_type": "code",
   "execution_count": 39,
   "id": "indonesian-generation",
   "metadata": {},
   "outputs": [
    {
     "data": {
      "text/html": [
       "<TABLE BORDER=1><TR><TH>Tables_in_world_x</TH></TR><TR><TD>city</TD></TR><TR><TD>country</TD></TR><TR><TD>countrylanguage</TD></TR></TABLE>"
      ]
     },
     "metadata": {},
     "output_type": "display_data"
    }
   ],
   "source": [
    "show tables;"
   ]
  },
  {
   "cell_type": "code",
   "execution_count": 41,
   "id": "faced-hybrid",
   "metadata": {},
   "outputs": [
    {
     "data": {
      "text/html": [
       "<TABLE BORDER=1><TR><TH>Field</TH><TH>Type</TH><TH>Null</TH><TH>Key</TH><TH>Default</TH><TH>Extra</TH></TR><TR><TD>ID</TD><TD>int(11)</TD><TD>NO</TD><TD>PRI</TD><TD>NULL</TD><TD>auto_increment</TD></TR><TR><TD>Name</TD><TD>char(35)</TD><TD>NO</TD><TD></TD><TD></TD><TD></TD></TR><TR><TD>CountryCode</TD><TD>char(3)</TD><TD>NO</TD><TD></TD><TD></TD><TD></TD></TR><TR><TD>District</TD><TD>char(20)</TD><TD>NO</TD><TD></TD><TD></TD><TD></TD></TR><TR><TD>Info</TD><TD>longtext</TD><TD>YES</TD><TD></TD><TD>NULL</TD><TD></TD></TR></TABLE>"
      ]
     },
     "metadata": {},
     "output_type": "display_data"
    }
   ],
   "source": [
    "describe city;"
   ]
  },
  {
   "cell_type": "markdown",
   "id": "furnished-gallery",
   "metadata": {},
   "source": [
    "### 1.4. sakila DB"
   ]
  },
  {
   "cell_type": "code",
   "execution_count": null,
   "id": "adjusted-advice",
   "metadata": {},
   "outputs": [],
   "source": [
    "source /home/boris/Descargas/sakila-db/sakila-schema.sql;"
   ]
  },
  {
   "cell_type": "code",
   "execution_count": null,
   "id": "gentle-impact",
   "metadata": {},
   "outputs": [],
   "source": [
    "source /home/boris/Descargas/sakila-db/sakila-data.sql;"
   ]
  },
  {
   "cell_type": "code",
   "execution_count": null,
   "id": "complicated-iraqi",
   "metadata": {},
   "outputs": [],
   "source": [
    "use sakila;"
   ]
  },
  {
   "cell_type": "code",
   "execution_count": 45,
   "id": "affecting-banks",
   "metadata": {},
   "outputs": [
    {
     "data": {
      "text/html": [
       "<TABLE BORDER=1><TR><TH>Tables_in_sakila</TH></TR><TR><TD>actor</TD></TR><TR><TD>actor_info</TD></TR><TR><TD>address</TD></TR><TR><TD>category</TD></TR><TR><TD>city</TD></TR><TR><TD>country</TD></TR><TR><TD>customer</TD></TR><TR><TD>customer_list</TD></TR><TR><TD>film</TD></TR><TR><TD>film_actor</TD></TR><TR><TD>film_category</TD></TR><TR><TD>film_list</TD></TR><TR><TD>film_text</TD></TR><TR><TD>inventory</TD></TR><TR><TD>language</TD></TR><TR><TD>nicer_but_slower_film_list</TD></TR><TR><TD>payment</TD></TR><TR><TD>rental</TD></TR><TR><TD>sales_by_film_category</TD></TR><TR><TD>sales_by_store</TD></TR><TR><TD>staff</TD></TR><TR><TD>staff_list</TD></TR><TR><TD>store</TD></TR></TABLE>"
      ]
     },
     "metadata": {},
     "output_type": "display_data"
    }
   ],
   "source": [
    "show tables;"
   ]
  },
  {
   "cell_type": "code",
   "execution_count": 47,
   "id": "powered-upset",
   "metadata": {},
   "outputs": [
    {
     "data": {
      "text/html": [
       "<TABLE BORDER=1><TR><TH>Field</TH><TH>Type</TH><TH>Null</TH><TH>Key</TH><TH>Default</TH><TH>Extra</TH></TR><TR><TD>film_id</TD><TD>smallint(5) unsigned</TD><TD>NO</TD><TD>PRI</TD><TD>NULL</TD><TD>auto_increment</TD></TR><TR><TD>title</TD><TD>varchar(128)</TD><TD>NO</TD><TD>MUL</TD><TD>NULL</TD><TD></TD></TR><TR><TD>description</TD><TD>text</TD><TD>YES</TD><TD></TD><TD>NULL</TD><TD></TD></TR><TR><TD>release_year</TD><TD>year(4)</TD><TD>YES</TD><TD></TD><TD>NULL</TD><TD></TD></TR><TR><TD>language_id</TD><TD>tinyint(3) unsigned</TD><TD>NO</TD><TD>MUL</TD><TD>NULL</TD><TD></TD></TR><TR><TD>original_language_id</TD><TD>tinyint(3) unsigned</TD><TD>YES</TD><TD>MUL</TD><TD>NULL</TD><TD></TD></TR><TR><TD>rental_duration</TD><TD>tinyint(3) unsigned</TD><TD>NO</TD><TD></TD><TD>3</TD><TD></TD></TR><TR><TD>rental_rate</TD><TD>decimal(4,2)</TD><TD>NO</TD><TD></TD><TD>4.99</TD><TD></TD></TR><TR><TD>length</TD><TD>smallint(5) unsigned</TD><TD>YES</TD><TD></TD><TD>NULL</TD><TD></TD></TR><TR><TD>replacement_cost</TD><TD>decimal(5,2)</TD><TD>NO</TD><TD></TD><TD>19.99</TD><TD></TD></TR><TR><TD>rating</TD><TD>enum('G','PG','PG-13','R','NC-17')</TD><TD>YES</TD><TD></TD><TD>G</TD><TD></TD></TR><TR><TD>special_features</TD><TD>set('Trailers','Commentaries','Deleted Scenes','Behind the Scenes')</TD><TD>YES</TD><TD></TD><TD>NULL</TD><TD></TD></TR><TR><TD>last_update</TD><TD>timestamp</TD><TD>NO</TD><TD></TD><TD>current_timestamp()</TD><TD>on update current_timestamp()</TD></TR></TABLE>"
      ]
     },
     "metadata": {},
     "output_type": "display_data"
    }
   ],
   "source": [
    "describe film;"
   ]
  },
  {
   "cell_type": "markdown",
   "id": "completed-suicide",
   "metadata": {},
   "source": [
    "### 1.5. menagerie DB"
   ]
  },
  {
   "cell_type": "markdown",
   "id": "powerful-package",
   "metadata": {},
   "source": [
    "Previo a la instalación de la base de datos, se consolida el código de los archivos: <code>cr_event_tbl.sql</code>, <code>cr_pet_tbl.sql</code>, <code>ins_puff_rec.sql</code> y <code>load_pet_tbl.sql</code> en un único archivo llamado <code>menagerie.sql</code> para facilitar la creación de la base de datos y la importación de los datos."
   ]
  },
  {
   "cell_type": "code",
   "execution_count": 56,
   "id": "difficult-secondary",
   "metadata": {},
   "outputs": [
    {
     "data": {
      "text/html": [
       "Stage: 2 of 2 'End bulk insert'      0% of stage done\r",
       "                                                     \r",
       "Stage: 2 of 2 'End bulk insert'      0% of stage done\r",
       "                                                     \r"
      ]
     },
     "metadata": {},
     "output_type": "display_data"
    }
   ],
   "source": [
    "source /home/boris/Descargas/menagerie-db/menagerie.sql;"
   ]
  },
  {
   "cell_type": "code",
   "execution_count": null,
   "id": "different-lincoln",
   "metadata": {},
   "outputs": [],
   "source": [
    "use menagerie;"
   ]
  },
  {
   "cell_type": "code",
   "execution_count": 60,
   "id": "spare-production",
   "metadata": {},
   "outputs": [
    {
     "data": {
      "text/html": [
       "<TABLE BORDER=1><TR><TH>Tables_in_menagerie</TH></TR><TR><TD>event</TD></TR><TR><TD>pet</TD></TR></TABLE>"
      ]
     },
     "metadata": {},
     "output_type": "display_data"
    }
   ],
   "source": [
    "show tables;"
   ]
  },
  {
   "cell_type": "code",
   "execution_count": 62,
   "id": "appropriate-permit",
   "metadata": {},
   "outputs": [
    {
     "data": {
      "text/html": [
       "<TABLE BORDER=1><TR><TH>Field</TH><TH>Type</TH><TH>Null</TH><TH>Key</TH><TH>Default</TH><TH>Extra</TH></TR><TR><TD>name</TD><TD>varchar(20)</TD><TD>YES</TD><TD></TD><TD>NULL</TD><TD></TD></TR><TR><TD>owner</TD><TD>varchar(20)</TD><TD>YES</TD><TD></TD><TD>NULL</TD><TD></TD></TR><TR><TD>species</TD><TD>varchar(20)</TD><TD>YES</TD><TD></TD><TD>NULL</TD><TD></TD></TR><TR><TD>sex</TD><TD>char(1)</TD><TD>YES</TD><TD></TD><TD>NULL</TD><TD></TD></TR><TR><TD>birth</TD><TD>date</TD><TD>YES</TD><TD></TD><TD>NULL</TD><TD></TD></TR><TR><TD>death</TD><TD>date</TD><TD>YES</TD><TD></TD><TD>NULL</TD><TD></TD></TR></TABLE>"
      ]
     },
     "metadata": {},
     "output_type": "display_data"
    }
   ],
   "source": [
    "describe pet;"
   ]
  },
  {
   "cell_type": "markdown",
   "id": "outstanding-worst",
   "metadata": {},
   "source": []
  },
  {
   "cell_type": "markdown",
   "id": "several-chart",
   "metadata": {},
   "source": [
    "## 2. Diagramas Entidad-Relación"
   ]
  },
  {
   "cell_type": "markdown",
   "id": "discrete-associate",
   "metadata": {},
   "source": [
    "Los diagramas E-R (entidad-relación) para cada base de datos fueron construidos con la aplicación web [SqlDBM](https://sqldbm.com) a partir de la información sobre los esquemas de diseño contenidos en el codigo de los archivos descargados."
   ]
  },
  {
   "cell_type": "markdown",
   "id": "configured-salon",
   "metadata": {},
   "source": [
    "### 2.1. employees DB"
   ]
  },
  {
   "cell_type": "markdown",
   "id": "available-circumstances",
   "metadata": {},
   "source": [
    "![1](images/employees-2021-04-03.png)"
   ]
  },
  {
   "cell_type": "markdown",
   "id": "concerned-finding",
   "metadata": {},
   "source": [
    "### 2.2. world DB"
   ]
  },
  {
   "cell_type": "markdown",
   "id": "fatal-portfolio",
   "metadata": {},
   "source": [
    "![2](images/world-2021-04-03.png)"
   ]
  },
  {
   "cell_type": "markdown",
   "id": "expressed-transcription",
   "metadata": {},
   "source": [
    "### 2.3. world_x DB"
   ]
  },
  {
   "cell_type": "markdown",
   "id": "driven-match",
   "metadata": {},
   "source": [
    "![3](images/world_x-2021-04-03.png)"
   ]
  },
  {
   "cell_type": "markdown",
   "id": "arranged-interference",
   "metadata": {},
   "source": [
    "### 2.4. sakila DB"
   ]
  },
  {
   "cell_type": "markdown",
   "id": "electoral-sally",
   "metadata": {},
   "source": [
    "![4](images/sakila-2021-04-03.png)"
   ]
  },
  {
   "cell_type": "markdown",
   "id": "opening-cancer",
   "metadata": {},
   "source": [
    "### 2.5. menagerie DB"
   ]
  },
  {
   "cell_type": "markdown",
   "id": "polish-adjustment",
   "metadata": {},
   "source": [
    "![5](images/menagerie-2021-04-03.png)"
   ]
  },
  {
   "cell_type": "code",
   "execution_count": null,
   "id": "directed-bicycle",
   "metadata": {},
   "outputs": [],
   "source": []
  },
  {
   "cell_type": "markdown",
   "id": "quarterly-character",
   "metadata": {},
   "source": [
    "## 3. Diseño e Implementación de las Bases de Datos "
   ]
  },
  {
   "cell_type": "markdown",
   "id": "stopped-redhead",
   "metadata": {},
   "source": [
    "### 3.1. employees DB"
   ]
  },
  {
   "cell_type": "markdown",
   "id": "listed-being",
   "metadata": {},
   "source": [
    "La base de datos **employees** cuenta con 8 tablas. Entre las principales están las siguientes:\n",
    "- `departments`: contiene los nombres de las diferentes áreas de trabajo de la empresa. Cuenta con nueve registros. Tiene una relación muchos a muchos con la tabla `employees` a través de la tabla `dep_emp`.\n",
    "- `employees`: contiene la informacion personal y características principales de todos los empleados. Cuenta con 300024 registros. \n",
    "- `dep_emp`: contiene las llaves primarias de las tablas `employees` y `departments`, además, el periodo de vigencia de la relación. Cuenta con 331603 registros. Implementa la relacion muchos a muchos entre las tablas mencionadas.\n",
    "- `salaries`: contiene el salario por empleado y en cada período donde esa cifra estuvo vigente. Cuenta con 2844047 registros. La tabla `employees` tiene una relación uno a muchos con esta tabla.\n",
    "- `titles`: contiene los cargos profesionales que cada empleado ha ocupado y su período de vigencia. Cuenta con 443308 registros. La tabla `employees` tiene una relación uno a muchos con esta tabla."
   ]
  },
  {
   "cell_type": "markdown",
   "id": "unnecessary-bargain",
   "metadata": {},
   "source": [
    "### 3.2. world DB "
   ]
  },
  {
   "cell_type": "markdown",
   "id": "monthly-figure",
   "metadata": {},
   "source": [
    "La base de datos **world** consta de 3 tablas:\n",
    "- `country`: contiene información de todos los países del mundo, su nombre, abreviatura y algunas características socio-políticas y económicas. Cuenta con 239 registros. Tiene una relación uno a muchos tanto con la tabla `city` como con la tabla `countrylanguage`.\n",
    "- `city`: contiene las principales ciudades de cada país, el nombre del distrito al que pertenecen y el número de habitantes. Cuenta con 4079 registros. Identifica cada registro con un valor de la llave primaria de la tabla `country`.\n",
    "- `countrylanguage`: contiene los idiomas que se hablan en cada país, un atributo que indica si el idioma es el oficial y la proporción de la población que lo habla. Cuenta con 984 registros. Identifica cada registro con un valor de la llave primaria de la tabla `country`."
   ]
  },
  {
   "cell_type": "markdown",
   "id": "confused-offset",
   "metadata": {},
   "source": [
    "### 3.3. world_x DB"
   ]
  },
  {
   "cell_type": "markdown",
   "id": "stylish-crazy",
   "metadata": {},
   "source": [
    "La base de datos **world_x** es similar a la anterior, consta de 3 tablas:\n",
    "- `country`: contiene el nombre de todos los países del mundo y el identificador de su capital. Cuenta con 239 registros. Tiene una relación uno a muchos tanto con la tabla `city` como con la tabla `countrylanguage`.\n",
    "- `city`: contiene las principales ciudades de cada país, el nombre del distrito al que pertenecen y el número de habitantes. Cuenta con 4079 registros. Identifica cada registro con un valor de la llave primaria de la tabla `country`.\n",
    "- `countrylanguage`: contiene los idiomas que se hablan en cada país, un atributo que indica si el idioma es el oficial y la proporción de la poblacion que lo habla. Cuenta con 984 registros. Identifica cada registro con un valor de la llave primaria de la tabla `country`."
   ]
  },
  {
   "cell_type": "markdown",
   "id": "tropical-accountability",
   "metadata": {},
   "source": [
    "### 3.4. sakila DB"
   ]
  },
  {
   "cell_type": "markdown",
   "id": "neither-transformation",
   "metadata": {},
   "source": [
    "La base de datos **sakila** dispone la información relacionada con las películas, transacciones, los empleados, clientes, el inventario y las tiendas de una empresa de alquiler de películas en DVD. En total consta de 16 tablas y 9 vistas. Entre las principales están las siguientes:\n",
    "- `actor`: contiene el nombre completo de los actores que participan en cada una de las peliculas disponibles para alquiler. Cuenta con 1000 registros. Tiene una relacion muchos a muchos con la tabla `film`.\n",
    "- `film`: contiene el título de cada una de la películas disponibles y características tales como su duración, calificación para el público, idioma original, entre otras. Cuenta con 1000 registros. Tiene una relación muchos a muchos con las tablas `actor` y `category`, muchos a uno con la tabla `language` y uno a muchos con `ìnventory`\n",
    "- `category`: contiene los nombres de los diferentes géneros en los que se clasifican las películas. Cuenta con 16 registros. Tiene una relacion muchos a muchos con la tabla `film`.\n",
    "- `film_actor`: implementa la relación muchos a muchos entre las tablas `actor` y `film`.\n",
    "- `film_category`: implementa la relación muchos a muchos entre las tablas `category` y `film`.\n",
    "- `inventory`: contiene información del stock de películas y las llaves primarias de `film` y `store` con las que tiene una relación muchos a uno. Cuenta con 4581 registros.\n",
    "- `store`: contiene el identificador de cada tienda y las llaves primarias de las tablas `address` y `staff`, con las que tiene una relación muchos a uno. Cuenta con 2 registros.\n",
    "- `address`: contiene las direcciones de residencia de los administradores y clientes, igualmente, las direcciones de las tiendas. Cuenta con 603 registros. Mantiene una relación uno a muchos con las tablas `staff`, `customers` y `store`, además, una relación muchos a uno con `city`.\n",
    "- `staff`: contiene la información personal de los administradores de las tiendas. Cuenta con 2 registros.\n",
    "- `customers`: contiene la información personal de todos los clientes. Cuenta con 599 registros. Mantiene una relación uno a muchos con la tabla `rental`.\n",
    "- `rental`: contiene el historial de alquileres realizados por los clientes en las tiendas. Cuenta con 16044 registros. Mantiene una relación uno a muchos con la tabla que registra las transacciones:`payment` "
   ]
  },
  {
   "cell_type": "markdown",
   "id": "bacterial-equivalent",
   "metadata": {},
   "source": [
    "### 3.5. menagerie DB"
   ]
  },
  {
   "cell_type": "markdown",
   "id": "peripheral-watson",
   "metadata": {},
   "source": [
    "La base de datos **menagerie** cuenta con tan sólo dos tablas:\n",
    "- `pet`: contiene el nombre, la especie, el nombre del dueño y otras características de nueve mascotas.\n",
    "- `event`: registra la información de los eventos en los que han participado las mascotas y sus dueños.\n",
    "</br>\n",
    "Ambas tablas podrían relacionarse mediante el atributo `name`, no obstante, la relación no está implementada por llaves o tablas auxiliares."
   ]
  },
  {
   "cell_type": "markdown",
   "id": "nominated-shade",
   "metadata": {},
   "source": [
    "## 4. Consultas a las Bases de Datos"
   ]
  },
  {
   "cell_type": "markdown",
   "id": "excited-saskatchewan",
   "metadata": {},
   "source": [
    "### 4.1. employees DB"
   ]
  },
  {
   "cell_type": "code",
   "execution_count": null,
   "id": "first-reader",
   "metadata": {},
   "outputs": [],
   "source": [
    "use employees;"
   ]
  },
  {
   "cell_type": "code",
   "execution_count": 86,
   "id": "stock-healing",
   "metadata": {},
   "outputs": [
    {
     "data": {
      "text/html": [
       "<TABLE BORDER=1><TR><TH>emp_no</TH><TH>birth_date</TH><TH>first_name</TH><TH>last_name</TH><TH>gender</TH><TH>hire_date</TH></TR><TR><TD>10001</TD><TD>1953-09-02</TD><TD>Georgi</TD><TD>Facello</TD><TD>M</TD><TD>1986-06-26</TD></TR><TR><TD>10002</TD><TD>1964-06-02</TD><TD>Bezalel</TD><TD>Simmel</TD><TD>F</TD><TD>1985-11-21</TD></TR><TR><TD>10003</TD><TD>1959-12-03</TD><TD>Parto</TD><TD>Bamford</TD><TD>M</TD><TD>1986-08-28</TD></TR><TR><TD>10004</TD><TD>1954-05-01</TD><TD>Chirstian</TD><TD>Koblick</TD><TD>M</TD><TD>1986-12-01</TD></TR><TR><TD>10005</TD><TD>1955-01-21</TD><TD>Kyoichi</TD><TD>Maliniak</TD><TD>M</TD><TD>1989-09-12</TD></TR><TR><TD>10006</TD><TD>1953-04-20</TD><TD>Anneke</TD><TD>Preusig</TD><TD>F</TD><TD>1989-06-02</TD></TR><TR><TD>10007</TD><TD>1957-05-23</TD><TD>Tzvetan</TD><TD>Zielinski</TD><TD>F</TD><TD>1989-02-10</TD></TR><TR><TD>10008</TD><TD>1958-02-19</TD><TD>Saniya</TD><TD>Kalloufi</TD><TD>M</TD><TD>1994-09-15</TD></TR><TR><TD>10009</TD><TD>1952-04-19</TD><TD>Sumant</TD><TD>Peac</TD><TD>F</TD><TD>1985-02-18</TD></TR><TR><TD>10010</TD><TD>1963-06-01</TD><TD>Duangkaew</TD><TD>Piveteau</TD><TD>F</TD><TD>1989-08-24</TD></TR></TABLE>"
      ]
     },
     "metadata": {},
     "output_type": "display_data"
    }
   ],
   "source": [
    "select * from employees limit 10;"
   ]
  },
  {
   "cell_type": "markdown",
   "id": "absent-bedroom",
   "metadata": {},
   "source": [
    "Número de hombres y mujeres en la empresa:"
   ]
  },
  {
   "cell_type": "code",
   "execution_count": 107,
   "id": "appropriate-holly",
   "metadata": {},
   "outputs": [
    {
     "data": {
      "text/html": [
       "<TABLE BORDER=1><TR><TH>Empleados</TH><TH>Numero</TH></TR><TR><TD>Hombres</TD><TD>179973</TD></TR><TR><TD>Mujeres</TD><TD>120051</TD></TR></TABLE>"
      ]
     },
     "metadata": {},
     "output_type": "display_data"
    }
   ],
   "source": [
    "select if(gender like 'M', 'Hombres', 'Mujeres') as 'Empleados',\n",
    "       count(*) as 'Numero'\n",
    "from employees\n",
    "group by gender;"
   ]
  },
  {
   "cell_type": "markdown",
   "id": "reduced-spyware",
   "metadata": {},
   "source": [
    "Salario promedio de hombres y mujeres:"
   ]
  },
  {
   "cell_type": "code",
   "execution_count": 90,
   "id": "arranged-athletics",
   "metadata": {},
   "outputs": [
    {
     "data": {
      "text/html": [
       "<TABLE BORDER=1><TR><TH>Sexo</TH><TH>Salario</TH></TR><TR><TD>Masculino</TD><TD>63838.1769</TD></TR><TR><TD>Femenino</TD><TD>63769.6032</TD></TR></TABLE>"
      ]
     },
     "metadata": {},
     "output_type": "display_data"
    }
   ],
   "source": [
    "select if(gender like 'M', 'Masculino', 'Femenino') as 'Sexo',\n",
    "       avg(salary) as 'Salario'\n",
    "from employees\n",
    "join salaries using(emp_no)\n",
    "group by gender;"
   ]
  },
  {
   "cell_type": "markdown",
   "id": "greatest-generation",
   "metadata": {},
   "source": [
    "Cargos en la empresa:"
   ]
  },
  {
   "cell_type": "code",
   "execution_count": 4,
   "id": "ethical-spoke",
   "metadata": {},
   "outputs": [
    {
     "data": {
      "text/html": [
       "<TABLE BORDER=1><TR><TH>Cargo</TH></TR><TR><TD>Senior Engineer</TD></TR><TR><TD>Staff</TD></TR><TR><TD>Engineer</TD></TR><TR><TD>Senior Staff</TD></TR><TR><TD>Assistant Engineer</TD></TR><TR><TD>Technique Leader</TD></TR><TR><TD>Manager</TD></TR></TABLE>"
      ]
     },
     "metadata": {},
     "output_type": "display_data"
    }
   ],
   "source": [
    "select distinct title as 'Cargo' from titles;"
   ]
  },
  {
   "cell_type": "markdown",
   "id": "broad-survivor",
   "metadata": {},
   "source": [
    "Salario promedio por cargo:"
   ]
  },
  {
   "cell_type": "code",
   "execution_count": 113,
   "id": "soviet-performance",
   "metadata": {},
   "outputs": [
    {
     "data": {
      "text/html": [
       "<TABLE BORDER=1><TR><TH>Cargo</TH><TH>Salario promedio</TH></TR><TR><TD>Technique Leader</TD><TD>59294.3742</TD></TR><TR><TD>Assistant Engineer</TD><TD>59304.9863</TD></TR><TR><TD>Engineer</TD><TD>59508.0397</TD></TR><TR><TD>Senior Engineer</TD><TD>60543.2191</TD></TR><TR><TD>Manager</TD><TD>66924.2706</TD></TR><TR><TD>Staff</TD><TD>69309.1023</TD></TR><TR><TD>Senior Staff</TD><TD>70470.8353</TD></TR></TABLE>"
      ]
     },
     "metadata": {},
     "output_type": "display_data"
    }
   ],
   "source": [
    "select Cargo, `Salario promedio`\n",
    "from \n",
    "(  select title as 'Cargo',\n",
    "          avg(salary) as 'Salario promedio'\n",
    "   from employees\n",
    "   join titles using(emp_no)\n",
    "   join salaries using(emp_no)\n",
    "   group by title\n",
    ") as t1\n",
    "order by `Salario promedio`;"
   ]
  },
  {
   "cell_type": "markdown",
   "id": "drawn-owner",
   "metadata": {},
   "source": [
    "Número de hombres y mujeres en el cargo más reciente:"
   ]
  },
  {
   "cell_type": "code",
   "execution_count": 17,
   "id": "clinical-hurricane",
   "metadata": {},
   "outputs": [
    {
     "data": {
      "text/html": [
       "<TABLE BORDER=1><TR><TH>Cargo</TH><TH>Hombres</TH><TH>Mujeres</TH></TR><TR><TD>Assistant Engineer</TD><TD>9176</TD><TD>5952</TD></TR><TR><TD>Engineer</TD><TD>63266</TD><TD>42444</TD></TR><TR><TD>Manager</TD><TD>11</TD><TD>13</TD></TR><TR><TD>Senior Engineer</TD><TD>18008</TD><TD>12039</TD></TR><TR><TD>Senior Staff</TD><TD>55762</TD><TD>37082</TD></TR><TR><TD>Staff</TD><TD>24709</TD><TD>16414</TD></TR><TR><TD>Technique Leader</TD><TD>9041</TD><TD>6107</TD></TR><TR><TD>Total</TD><TD>179973</TD><TD>120051</TD></TR></TABLE>"
      ]
     },
     "metadata": {},
     "output_type": "display_data"
    }
   ],
   "source": [
    "select ifnull(last_title, 'Total') as 'Cargo',\n",
    "       count(if(gender like 'M', 'M', NULL)) as 'Hombres',\n",
    "       count(if(gender like 'F', 'F', NULL)) as 'Mujeres' \n",
    "from employees\n",
    "join\n",
    "(   select emp_no, last_value(title) over (\n",
    "                                           partition by emp_no \n",
    "                                           order by unix_timestamp(from_date) \n",
    "                                           range between unbounded preceding and unbounded following) last_title \n",
    "    from titles group by emp_no\n",
    ") as t1 using(emp_no)\n",
    "group by last_title with rollup;"
   ]
  },
  {
   "cell_type": "markdown",
   "id": "radio-referral",
   "metadata": {},
   "source": [
    "### 4.2. world DB "
   ]
  },
  {
   "cell_type": "code",
   "execution_count": null,
   "id": "likely-harvard",
   "metadata": {},
   "outputs": [],
   "source": [
    "use world;"
   ]
  },
  {
   "cell_type": "markdown",
   "id": "rural-season",
   "metadata": {},
   "source": [
    "Algunos indicadores socio-económicos de los países de Sur América: "
   ]
  },
  {
   "cell_type": "code",
   "execution_count": 35,
   "id": "julian-exclusion",
   "metadata": {},
   "outputs": [
    {
     "data": {
      "text/html": [
       "<TABLE BORDER=1><TR><TH>Code</TH><TH>Name</TH><TH>Continent</TH><TH>Density</TH><TH>GNP per capita</TH><TH>LifeExpectancy</TH></TR><TR><TD>ARG</TD><TD>Argentina</TD><TD>South America</TD><TD>13.3189</TD><TD>9188</TD><TD>75.1</TD></TR><TR><TD>BOL</TD><TD>Bolivia</TD><TD>South America</TD><TD>7.5816</TD><TD>1029</TD><TD>63.7</TD></TR><TR><TD>BRA</TD><TD>Brazil</TD><TD>South America</TD><TD>19.9025</TD><TD>4566</TD><TD>62.9</TD></TR><TR><TD>CHL</TD><TD>Chile</TD><TD>South America</TD><TD>20.1037</TD><TD>4796</TD><TD>75.7</TD></TR><TR><TD>COL</TD><TD>Colombia</TD><TD>South America</TD><TD>37.1591</TD><TD>2431</TD><TD>70.3</TD></TR><TR><TD>ECU</TD><TD>Ecuador</TD><TD>South America</TD><TD>44.5971</TD><TD>1563</TD><TD>71.1</TD></TR><TR><TD>FLK</TD><TD>Falkland Islands</TD><TD>South America</TD><TD>0.1643</TD><TD>0</TD><TD>NULL</TD></TR><TR><TD>GUF</TD><TD>French Guiana</TD><TD>South America</TD><TD>2.0111</TD><TD>3762</TD><TD>76.1</TD></TR><TR><TD>GUY</TD><TD>Guyana</TD><TD>South America</TD><TD>4.0052</TD><TD>839</TD><TD>64.0</TD></TR><TR><TD>PER</TD><TD>Peru</TD><TD>South America</TD><TD>19.9671</TD><TD>2499</TD><TD>70.0</TD></TR><TR><TD>PRY</TD><TD>Paraguay</TD><TD>South America</TD><TD>13.5119</TD><TD>1536</TD><TD>73.7</TD></TR><TR><TD>SUR</TD><TD>Suriname</TD><TD>South America</TD><TD>2.5541</TD><TD>2086</TD><TD>71.4</TD></TR><TR><TD>URY</TD><TD>Uruguay</TD><TD>South America</TD><TD>19.0668</TD><TD>6242</TD><TD>75.2</TD></TR><TR><TD>VEN</TD><TD>Venezuela</TD><TD>South America</TD><TD>26.5007</TD><TD>3931</TD><TD>73.1</TD></TR></TABLE>"
      ]
     },
     "metadata": {},
     "output_type": "display_data"
    }
   ],
   "source": [
    "select Code, Name, Continent,\n",
    "       (Population/SurfaceArea) as 'Density',\n",
    "       round((GNP/Population)*1000000) as 'GNP per capita',\n",
    "       LifeExpectancy\n",
    "from country\n",
    "where Continent like 'South America'\n",
    "limit 15;"
   ]
  },
  {
   "cell_type": "markdown",
   "id": "asian-miracle",
   "metadata": {},
   "source": [
    "Número de países por continente:"
   ]
  },
  {
   "cell_type": "code",
   "execution_count": 33,
   "id": "parental-priority",
   "metadata": {},
   "outputs": [
    {
     "data": {
      "text/html": [
       "<TABLE BORDER=1><TR><TH>Continent</TH><TH>Number of countries</TH></TR><TR><TD>Asia</TD><TD>51</TD></TR><TR><TD>Europe</TD><TD>46</TD></TR><TR><TD>North America</TD><TD>37</TD></TR><TR><TD>Africa</TD><TD>58</TD></TR><TR><TD>Oceania</TD><TD>28</TD></TR><TR><TD>Antarctica</TD><TD>5</TD></TR><TR><TD>South America</TD><TD>14</TD></TR></TABLE>"
      ]
     },
     "metadata": {},
     "output_type": "display_data"
    }
   ],
   "source": [
    "select Continent, count(*) as 'Number of countries'\n",
    "from country\n",
    "group by Continent;"
   ]
  },
  {
   "cell_type": "markdown",
   "id": "accompanied-puzzle",
   "metadata": {},
   "source": [
    "Top 10 Países donde se hablan más idiomas:"
   ]
  },
  {
   "cell_type": "code",
   "execution_count": 52,
   "id": "lined-canal",
   "metadata": {},
   "outputs": [
    {
     "data": {
      "text/html": [
       "<TABLE BORDER=1><TR><TH>Name</TH><TH>Numero de idiomas</TH></TR><TR><TD>India</TD><TD>12</TD></TR><TR><TD>Canada</TD><TD>12</TD></TR><TR><TD>United States</TD><TD>12</TD></TR><TR><TD>Russian Federation</TD><TD>12</TD></TR><TR><TD>China</TD><TD>12</TD></TR><TR><TD>Tanzania</TD><TD>11</TD></TR><TR><TD>South Africa</TD><TD>11</TD></TR><TR><TD>Sudan</TD><TD>10</TD></TR><TR><TD>Congo, The Democratic Republic of the</TD><TD>10</TD></TR><TR><TD>Kenya</TD><TD>10</TD></TR></TABLE>"
      ]
     },
     "metadata": {},
     "output_type": "display_data"
    }
   ],
   "source": [
    "select Name, n as 'Numero de idiomas'\n",
    "from country\n",
    "join \n",
    "(  select CountryCode as Code, count(*) as n\n",
    "   from countrylanguage\n",
    "   group by CountryCode\n",
    ") as t1 using(Code)\n",
    "order by n desc\n",
    "limit 10;"
   ]
  },
  {
   "cell_type": "markdown",
   "id": "brief-account",
   "metadata": {},
   "source": [
    "Proporción de países donde la lengua española es la lengua oficial:"
   ]
  },
  {
   "cell_type": "code",
   "execution_count": 146,
   "id": "breeding-caribbean",
   "metadata": {},
   "outputs": [
    {
     "data": {
      "text/html": [
       "<TABLE BORDER=1><TR><TH>Percentage</TH></TR><TR><TD>2.03 %</TD></TR></TABLE>"
      ]
     },
     "metadata": {},
     "output_type": "display_data"
    },
    {
     "data": {
      "text/html": []
     },
     "metadata": {},
     "output_type": "display_data"
    }
   ],
   "source": [
    "set @n_countries=(select count(*) from countrylanguage);\n",
    "select concat(round((n_spa/@n_countries)*100, 2), ' %') as Percentage\n",
    "from \n",
    "(\n",
    "    select count(*) as n_spa\n",
    "    from countrylanguage\n",
    "    where IsOfficial='T' and Language='Spanish'\n",
    ") as t1\n",
    ";"
   ]
  },
  {
   "cell_type": "markdown",
   "id": "interpreted-fever",
   "metadata": {},
   "source": [
    "Proporción de la población mundial que habla español:"
   ]
  },
  {
   "cell_type": "code",
   "execution_count": 28,
   "id": "chief-billion",
   "metadata": {},
   "outputs": [
    {
     "data": {
      "text/html": []
     },
     "metadata": {},
     "output_type": "display_data"
    },
    {
     "data": {
      "text/html": [
       "<TABLE BORDER=1><TR><TH>Percentage</TH></TR><TR><TD>5.84 %</TD></TR></TABLE>"
      ]
     },
     "metadata": {},
     "output_type": "display_data"
    }
   ],
   "source": [
    "set @world_pop=(select sum(Population) from country);\n",
    "\n",
    "select concat(round(100*sum(spa_pop)/@world_pop, 2), ' %') as Percentage\n",
    "from\n",
    "(\n",
    "    select Code, (Population*Percentage/100) as spa_pop\n",
    "    from country\n",
    "    join\n",
    "    (\n",
    "        select CountryCode as Code, Percentage\n",
    "        from countrylanguage\n",
    "        where Language='Spanish'\n",
    "    ) as t1 using(Code)\n",
    ") as t2 \n",
    ";"
   ]
  },
  {
   "cell_type": "markdown",
   "id": "incredible-philadelphia",
   "metadata": {},
   "source": [
    "### 4.3. world_x DB"
   ]
  },
  {
   "cell_type": "code",
   "execution_count": null,
   "id": "false-enough",
   "metadata": {},
   "outputs": [],
   "source": [
    "use world_x;"
   ]
  },
  {
   "cell_type": "code",
   "execution_count": 31,
   "id": "derived-fence",
   "metadata": {},
   "outputs": [
    {
     "data": {
      "text/html": [
       "<TABLE BORDER=1><TR><TH>ID</TH><TH>Name</TH><TH>CountryCode</TH><TH>District</TH><TH>Info</TH></TR><TR><TD>1</TD><TD>Kabul</TD><TD>AFG</TD><TD>Kabol</TD><TD>{&quot;Population&quot;: 1780000}</TD></TR><TR><TD>2</TD><TD>Qandahar</TD><TD>AFG</TD><TD>Qandahar</TD><TD>{&quot;Population&quot;: 237500}</TD></TR><TR><TD>3</TD><TD>Herat</TD><TD>AFG</TD><TD>Herat</TD><TD>{&quot;Population&quot;: 186800}</TD></TR><TR><TD>4</TD><TD>Mazar-e-Sharif</TD><TD>AFG</TD><TD>Balkh</TD><TD>{&quot;Population&quot;: 127800}</TD></TR><TR><TD>5</TD><TD>Amsterdam</TD><TD>NLD</TD><TD>Noord-Holland</TD><TD>{&quot;Population&quot;: 731200}</TD></TR><TR><TD>6</TD><TD>Rotterdam</TD><TD>NLD</TD><TD>Zuid-Holland</TD><TD>{&quot;Population&quot;: 593321}</TD></TR><TR><TD>7</TD><TD>Haag</TD><TD>NLD</TD><TD>Zuid-Holland</TD><TD>{&quot;Population&quot;: 440900}</TD></TR><TR><TD>8</TD><TD>Utrecht</TD><TD>NLD</TD><TD>Utrecht</TD><TD>{&quot;Population&quot;: 234323}</TD></TR><TR><TD>9</TD><TD>Eindhoven</TD><TD>NLD</TD><TD>Noord-Brabant</TD><TD>{&quot;Population&quot;: 201843}</TD></TR><TR><TD>10</TD><TD>Tilburg</TD><TD>NLD</TD><TD>Noord-Brabant</TD><TD>{&quot;Population&quot;: 193238}</TD></TR></TABLE>"
      ]
     },
     "metadata": {},
     "output_type": "display_data"
    }
   ],
   "source": [
    "select * from city limit 10;"
   ]
  },
  {
   "cell_type": "markdown",
   "id": "north-pizza",
   "metadata": {},
   "source": [
    "Top 10 Ciudades más populosas del mundo:"
   ]
  },
  {
   "cell_type": "code",
   "execution_count": 47,
   "id": "hollow-frost",
   "metadata": {},
   "outputs": [
    {
     "data": {
      "text/html": [
       "<TABLE BORDER=1><TR><TH>Name</TH><TH>Population</TH></TR><TR><TD>Mumbai (Bombay)</TD><TD>10500000</TD></TR><TR><TD>Seoul</TD><TD>9981619</TD></TR><TR><TD>São Paulo</TD><TD>9968485</TD></TR><TR><TD>Shanghai</TD><TD>9696300</TD></TR><TR><TD>Jakarta</TD><TD>9604900</TD></TR><TR><TD>Karachi</TD><TD>9269265</TD></TR><TR><TD>Istanbul</TD><TD>8787958</TD></TR><TR><TD>Ciudad de México</TD><TD>8591309</TD></TR><TR><TD>Moscow</TD><TD>8389200</TD></TR><TR><TD>New York</TD><TD>8008278</TD></TR></TABLE>"
      ]
     },
     "metadata": {},
     "output_type": "display_data"
    }
   ],
   "source": [
    "select Name, cast(regexp_substr(Info, '[0-9]+') as int) as Population \n",
    "from city\n",
    "order by Population desc\n",
    "limit 10;"
   ]
  },
  {
   "cell_type": "markdown",
   "id": "statutory-brake",
   "metadata": {},
   "source": [
    "Proporción de países en el mundo cuya capital es también su ciudad más populosa:"
   ]
  },
  {
   "cell_type": "code",
   "execution_count": 67,
   "id": "amended-wireless",
   "metadata": {},
   "outputs": [
    {
     "data": {
      "text/html": [
       "<TABLE BORDER=1><TR><TH>Percentage</TH></TR><TR><TD>79.31 %</TD></TR></TABLE>"
      ]
     },
     "metadata": {},
     "output_type": "display_data"
    }
   ],
   "source": [
    "with capitals   as (select Capital from country where Capital is not NULL),\n",
    "     pop_cities as (select ID, max(cast(regexp_substr(Info, '[0-9]+') as int)) as Population, 1 as IsMostPop\n",
    "                    from city\n",
    "                    group by CountryCode)\n",
    "\n",
    "select concat(round(avg(IsMostPop)*100, 2), ' %') as Percentage\n",
    "from\n",
    "(\n",
    "    select c.Capital, ifnull(p.IsMostPop, 0) as IsMostPop\n",
    "    from capitals c\n",
    "    left join pop_cities p on(c.Capital=p.ID)\n",
    ") as result\n",
    ";"
   ]
  },
  {
   "cell_type": "markdown",
   "id": "prompt-student",
   "metadata": {},
   "source": [
    "### 4.4. sakila DB"
   ]
  },
  {
   "cell_type": "code",
   "execution_count": null,
   "id": "shared-alberta",
   "metadata": {},
   "outputs": [],
   "source": [
    "use sakila;"
   ]
  },
  {
   "cell_type": "markdown",
   "id": "ranking-reasoning",
   "metadata": {},
   "source": [
    "Número de películas por calificación al público:"
   ]
  },
  {
   "cell_type": "code",
   "execution_count": 77,
   "id": "racial-product",
   "metadata": {},
   "outputs": [
    {
     "data": {
      "text/html": [
       "<TABLE BORDER=1><TR><TH>Calificación</TH><TH>Número de películas</TH></TR><TR><TD>G</TD><TD>178</TD></TR><TR><TD>PG</TD><TD>194</TD></TR><TR><TD>PG-13</TD><TD>223</TD></TR><TR><TD>R</TD><TD>195</TD></TR><TR><TD>NC-17</TD><TD>210</TD></TR></TABLE>"
      ]
     },
     "metadata": {},
     "output_type": "display_data"
    }
   ],
   "source": [
    "select rating as 'Calificación', count(*) as 'Número de películas' from film group by rating;"
   ]
  },
  {
   "cell_type": "markdown",
   "id": "excess-blowing",
   "metadata": {},
   "source": [
    "Top 10 actores con más apariciones en películas:"
   ]
  },
  {
   "cell_type": "code",
   "execution_count": 112,
   "id": "incomplete-outdoors",
   "metadata": {},
   "outputs": [
    {
     "data": {
      "text/html": [
       "<TABLE BORDER=1><TR><TH>Actor/Actriz</TH><TH>Apariciones en películas</TH></TR><TR><TD>GINA DEGENERES</TD><TD>42</TD></TR><TR><TD>WALTER TORN</TD><TD>41</TD></TR><TR><TD>MARY KEITEL</TD><TD>40</TD></TR><TR><TD>MATTHEW CARREY</TD><TD>39</TD></TR><TR><TD>SANDRA KILMER</TD><TD>37</TD></TR><TR><TD>SCARLETT DAMON</TD><TD>36</TD></TR><TR><TD>VIVIEN BASINGER</TD><TD>35</TD></TR><TR><TD>UMA WOOD</TD><TD>35</TD></TR><TR><TD>HENRY BERRY</TD><TD>35</TD></TR><TR><TD>VAL BOLGER</TD><TD>35</TD></TR></TABLE>"
      ]
     },
     "metadata": {},
     "output_type": "display_data"
    }
   ],
   "source": [
    "select concat(first_name, ' ', last_name) as 'Actor/Actriz',\n",
    "       n as 'Apariciones en películas'\n",
    "from actor\n",
    "join\n",
    "(\n",
    "    select actor_id, count(film_id) as n from film_actor group by actor_id\n",
    ") as t1 using(actor_id)\n",
    "order by n desc\n",
    "limit 10\n",
    ";"
   ]
  },
  {
   "cell_type": "markdown",
   "id": "outside-coast",
   "metadata": {},
   "source": [
    "Género en el que más han participado el top 10 de actores con más apariciones en películas (como porcentaje del total de apariciones):"
   ]
  },
  {
   "cell_type": "code",
   "execution_count": 111,
   "id": "fossil-server",
   "metadata": {},
   "outputs": [
    {
     "data": {
      "text/html": [
       "<TABLE BORDER=1><TR><TH>Actor/Actriz</TH><TH>Género</TH><TH>Participación</TH></TR><TR><TD>GINA DEGENERES</TD><TD>Action</TD><TD>16.67 %</TD></TR><TR><TD>WALTER TORN</TD><TD>Action</TD><TD>12.20 %</TD></TR><TR><TD>MARY KEITEL</TD><TD>Action</TD><TD>10.00 %</TD></TR><TR><TD>MATTHEW CARREY</TD><TD>Action</TD><TD>12.82 %</TD></TR><TR><TD>SANDRA KILMER</TD><TD>Action</TD><TD>10.81 %</TD></TR><TR><TD>SCARLETT DAMON</TD><TD>Action</TD><TD>13.89 %</TD></TR><TR><TD>HENRY BERRY</TD><TD>Action</TD><TD>14.29 %</TD></TR><TR><TD>GROUCHO DUNST</TD><TD>Action</TD><TD>14.29 %</TD></TR></TABLE>"
      ]
     },
     "metadata": {},
     "output_type": "display_data"
    }
   ],
   "source": [
    "with top as (\n",
    "    select actor_id, count(film_id) as n from film_actor group by actor_id order by n desc limit 10\n",
    "), top_actor_film as (\n",
    "    select actor_id, film_id\n",
    "    from film_actor\n",
    "    join top using(actor_id)\n",
    "), top_actor_cat_film as (\n",
    "    select ta.actor_id, ta.film_id, c.name\n",
    "    from top_actor_film ta\n",
    "    join film_category using(film_id) join category c using(category_id)\n",
    "), result as (\n",
    "    select actor_id, name, max(n) as appearances\n",
    "    from (\n",
    "        select actor_id, name, count(*) as n from top_actor_cat_film group by actor_id, name\n",
    "    ) as t\n",
    "    group by actor_id\n",
    ")\n",
    "\n",
    "select concat(a.first_name, ' ', a.last_name) as 'Actor/Actriz',\n",
    "       r.name as 'Género',\n",
    "       concat(round((r.appearances/top.n)*100, 2), ' %') as 'Participación'\n",
    "from result r\n",
    "join top using(actor_id)\n",
    "join actor a using(actor_id)\n",
    ";"
   ]
  },
  {
   "cell_type": "markdown",
   "id": "entitled-egypt",
   "metadata": {},
   "source": [
    "Top 5 Géneros con más peliculas:"
   ]
  },
  {
   "cell_type": "code",
   "execution_count": 117,
   "id": "satisfied-newfoundland",
   "metadata": {},
   "outputs": [
    {
     "data": {
      "text/html": [
       "<TABLE BORDER=1><TR><TH>Género</TH><TH>Número de películas</TH></TR><TR><TD>Sports</TD><TD>74</TD></TR><TR><TD>Foreign</TD><TD>73</TD></TR><TR><TD>Family</TD><TD>69</TD></TR><TR><TD>Documentary</TD><TD>68</TD></TR><TR><TD>Animation</TD><TD>66</TD></TR></TABLE>"
      ]
     },
     "metadata": {},
     "output_type": "display_data"
    }
   ],
   "source": [
    "select *\n",
    "from (\n",
    "    select c.name as 'Género', count(*) as 'Número de películas'\n",
    "    from film_category\n",
    "    join category c using(category_id)\n",
    "    group by c.name\n",
    ") as t\n",
    "order by `Número de películas` desc\n",
    "limit 5\n",
    ";"
   ]
  },
  {
   "cell_type": "markdown",
   "id": "severe-heater",
   "metadata": {},
   "source": [
    "Top 5 Géneros con más ventas:"
   ]
  },
  {
   "cell_type": "code",
   "execution_count": 120,
   "id": "accompanied-financing",
   "metadata": {},
   "outputs": [
    {
     "data": {
      "text/html": [
       "<TABLE BORDER=1><TR><TH>Género</TH><TH>Ventas</TH></TR><TR><TD>Sports</TD><TD>5314.21</TD></TR><TR><TD>Sci-Fi</TD><TD>4756.98</TD></TR><TR><TD>Animation</TD><TD>4656.30</TD></TR><TR><TD>Drama</TD><TD>4587.39</TD></TR><TR><TD>Comedy</TD><TD>4383.58</TD></TR></TABLE>"
      ]
     },
     "metadata": {},
     "output_type": "display_data"
    }
   ],
   "source": [
    "select c.name as 'Género', sum(p.amount) as 'Ventas'\n",
    "from payment p \n",
    "join rental r using(rental_id)\n",
    "join inventory i using(inventory_id)\n",
    "join film_category f using(film_id)\n",
    "join category c using(category_id)\n",
    "group by c.name\n",
    "order by Ventas desc\n",
    "limit 5;"
   ]
  },
  {
   "cell_type": "markdown",
   "id": "driving-tolerance",
   "metadata": {},
   "source": [
    "Top 5 Géneros con más ventas por título (en dólares):"
   ]
  },
  {
   "cell_type": "code",
   "execution_count": 27,
   "id": "documentary-visiting",
   "metadata": {},
   "outputs": [
    {
     "data": {
      "text/html": [
       "<TABLE BORDER=1><TR><TH>Género</TH><TH>Ventas por título (dólares)</TH></TR><TR><TD>Sci-Fi</TD><TD>77.983279</TD></TR><TR><TD>Comedy</TD><TD>75.578966</TD></TR><TR><TD>Drama</TD><TD>73.990161</TD></TR><TR><TD>Sports</TD><TD>71.813649</TD></TR><TR><TD>Animation</TD><TD>70.550000</TD></TR></TABLE>"
      ]
     },
     "metadata": {},
     "output_type": "display_data"
    }
   ],
   "source": [
    "with sales_per_cat as (\n",
    "    select c.name as category, sum(p.amount) as sales\n",
    "    from payment p \n",
    "    join rental r using(rental_id)\n",
    "    join inventory i using(inventory_id)\n",
    "    join film_category f using(film_id)\n",
    "    join category c using(category_id)\n",
    "    group by c.name\n",
    "), titles_per_cat as (\n",
    "    select c.name as category, count(*) as n_titles\n",
    "    from film_category\n",
    "    join category c using(category_id)\n",
    "    group by c.name\n",
    ")\n",
    "\n",
    "select category as 'Género', (sales/n_titles) as 'Ventas por título (dólares)'\n",
    "from sales_per_cat join titles_per_cat using(category)\n",
    "order by `Ventas por título (dólares)` desc\n",
    "limit 5\n",
    ";"
   ]
  },
  {
   "cell_type": "markdown",
   "id": "million-appeal",
   "metadata": {},
   "source": [
    "### 4.5. menagerie DB"
   ]
  },
  {
   "cell_type": "code",
   "execution_count": null,
   "id": "silver-assumption",
   "metadata": {},
   "outputs": [],
   "source": [
    "use menagerie;"
   ]
  },
  {
   "cell_type": "code",
   "execution_count": 70,
   "id": "infinite-speed",
   "metadata": {},
   "outputs": [
    {
     "data": {
      "text/html": [
       "<TABLE BORDER=1><TR><TH>name</TH><TH>owner</TH><TH>species</TH><TH>sex</TH><TH>birth</TH><TH>death</TH></TR><TR><TD>Fluffy</TD><TD>Harold</TD><TD>cat</TD><TD>f</TD><TD>1993-02-04</TD><TD>NULL</TD></TR><TR><TD>Claws</TD><TD>Gwen</TD><TD>cat</TD><TD>m</TD><TD>1994-03-17</TD><TD>NULL</TD></TR><TR><TD>Buffy</TD><TD>Harold</TD><TD>dog</TD><TD>f</TD><TD>1989-05-13</TD><TD>NULL</TD></TR><TR><TD>Fang</TD><TD>Benny</TD><TD>dog</TD><TD>m</TD><TD>1990-08-27</TD><TD>NULL</TD></TR><TR><TD>Bowser</TD><TD>Diane</TD><TD>dog</TD><TD>m</TD><TD>1979-08-31</TD><TD>1995-07-29</TD></TR></TABLE>"
      ]
     },
     "metadata": {},
     "output_type": "display_data"
    }
   ],
   "source": [
    "select * from pet limit 5;"
   ]
  },
  {
   "cell_type": "markdown",
   "id": "senior-genre",
   "metadata": {},
   "source": [
    "Número de animales por especie:"
   ]
  },
  {
   "cell_type": "code",
   "execution_count": 72,
   "id": "maritime-shield",
   "metadata": {},
   "outputs": [
    {
     "data": {
      "text/html": [
       "<TABLE BORDER=1><TR><TH>Specie</TH><TH>Number</TH></TR><TR><TD>bird</TD><TD>2</TD></TR><TR><TD>cat</TD><TD>2</TD></TR><TR><TD>dog</TD><TD>3</TD></TR><TR><TD>hamster</TD><TD>1</TD></TR><TR><TD>snake</TD><TD>1</TD></TR></TABLE>"
      ]
     },
     "metadata": {},
     "output_type": "display_data"
    }
   ],
   "source": [
    "select species as Specie, count(*) as Number from pet group by species;"
   ]
  },
  {
   "cell_type": "markdown",
   "id": "powerful-permission",
   "metadata": {},
   "source": [
    "Eventos ocurridos en el año 1998:"
   ]
  },
  {
   "cell_type": "code",
   "execution_count": 74,
   "id": "blind-solid",
   "metadata": {},
   "outputs": [
    {
     "data": {
      "text/html": [
       "<TABLE BORDER=1><TR><TH>name</TH><TH>date</TH><TH>type</TH></TR><TR><TD>Fang</TD><TD>1998-08-28</TD><TD>birthday</TD></TR><TR><TD>Claws</TD><TD>1998-03-17</TD><TD>birthday</TD></TR><TR><TD>Whistler</TD><TD>1998-12-09</TD><TD>birthday</TD></TR></TABLE>"
      ]
     },
     "metadata": {},
     "output_type": "display_data"
    }
   ],
   "source": [
    "select name, `date`, type from event where year(`date`)='1998';"
   ]
  },
  {
   "cell_type": "markdown",
   "id": "nuclear-school",
   "metadata": {},
   "source": [
    "## 5. Procedimientos, Triggers y Funciones"
   ]
  },
  {
   "cell_type": "markdown",
   "id": "social-thanksgiving",
   "metadata": {},
   "source": [
    "Únicamente las bases de datos **employees** y **sakila** almacenan funciones y procedimientos. En cuanto a triggers, ésta ultima contiene algunos ejemplos."
   ]
  },
  {
   "cell_type": "markdown",
   "id": "ancient-fleece",
   "metadata": {},
   "source": [
    "### 5.1 Procedimientos"
   ]
  },
  {
   "cell_type": "markdown",
   "id": "weird-governor",
   "metadata": {},
   "source": [
    "Un procedimiento permite almacenar la implementación de varios comandos SQL. Esto reporta una ventaja en seguridad pues permite a usuarios regulares de la base de datos realizar secuencias de consultas, previamente programadas y autorizadas, sin consultar directamente las tablas."
   ]
  },
  {
   "cell_type": "markdown",
   "id": "civil-miracle",
   "metadata": {},
   "source": [
    "El siguiente ejemplo es tomado del archivo `objects.sql` de la base de datos **employees**. El código crea un procedimiento que muestra cada departamento (área de trabajo de la empresa) y el número de empleados que allí trabajan."
   ]
  },
  {
   "cell_type": "code",
   "execution_count": 1,
   "id": "worst-recall",
   "metadata": {},
   "outputs": [
    {
     "data": {
      "text/html": []
     },
     "metadata": {},
     "output_type": "display_data"
    }
   ],
   "source": [
    "use employees;"
   ]
  },
  {
   "cell_type": "code",
   "execution_count": null,
   "id": "funny-commissioner",
   "metadata": {},
   "outputs": [],
   "source": [
    "delimiter //\n",
    "\n",
    "create procedure show_departments()\n",
    "modifies sql data\n",
    "begin\n",
    "    DROP TABLE IF EXISTS department_max_date;\n",
    "    DROP TABLE IF EXISTS department_people;\n",
    "    CREATE TEMPORARY TABLE department_max_date\n",
    "    (\n",
    "        emp_no int not null primary key,\n",
    "        dept_from_date date not null,\n",
    "        dept_to_date  date not null, # bug#320513\n",
    "        KEY (dept_from_date, dept_to_date)\n",
    "    );\n",
    "    INSERT INTO department_max_date\n",
    "    SELECT\n",
    "        emp_no, max(from_date), max(to_date)\n",
    "    FROM\n",
    "        dept_emp\n",
    "    GROUP BY\n",
    "        emp_no;\n",
    "\n",
    "    CREATE TEMPORARY TABLE department_people\n",
    "    (\n",
    "        emp_no int not null,\n",
    "        dept_no char(4) not null,\n",
    "        primary key (emp_no, dept_no)\n",
    "    );\n",
    "\n",
    "    insert into department_people\n",
    "    select dmd.emp_no, dept_no\n",
    "    from\n",
    "        department_max_date dmd\n",
    "        inner join dept_emp de\n",
    "            on dmd.dept_from_date=de.from_date\n",
    "            and dmd.dept_to_date=de.to_date\n",
    "            and dmd.emp_no=de.emp_no;\n",
    "    SELECT\n",
    "        dept_no,dept_name,manager, count(*)\n",
    "        from v_full_departments\n",
    "            inner join department_people using (dept_no)\n",
    "        group by dept_no;\n",
    "        # with rollup;\n",
    "    DROP TABLE department_max_date;\n",
    "    DROP TABLE department_people;\n",
    "end //\n",
    "\n",
    "delimiter ;"
   ]
  },
  {
   "cell_type": "markdown",
   "id": "aboriginal-rwanda",
   "metadata": {},
   "source": [
    "Los procedimientos almacenados en la base de datos **sakila**:"
   ]
  },
  {
   "cell_type": "code",
   "execution_count": 8,
   "id": "exceptional-madagascar",
   "metadata": {},
   "outputs": [
    {
     "data": {
      "text/html": [
       "<TABLE BORDER=1><TR><TH>Db</TH><TH>Name</TH><TH>Type</TH><TH>Definer</TH><TH>Modified</TH><TH>Created</TH><TH>Security_type</TH><TH>Comment</TH><TH>character_set_client</TH><TH>collation_connection</TH><TH>Database Collation</TH></TR><TR><TD>sakila</TD><TD>film_in_stock</TD><TD>PROCEDURE</TD><TD>root@localhost</TD><TD>2021-03-25 14:54:00</TD><TD>2021-03-25 14:54:00</TD><TD>DEFINER</TD><TD></TD><TD>utf8mb4</TD><TD>utf8mb4_general_ci</TD><TD>utf8mb4_general_ci</TD></TR><TR><TD>sakila</TD><TD>film_not_in_stock</TD><TD>PROCEDURE</TD><TD>root@localhost</TD><TD>2021-03-25 14:54:00</TD><TD>2021-03-25 14:54:00</TD><TD>DEFINER</TD><TD></TD><TD>utf8mb4</TD><TD>utf8mb4_general_ci</TD><TD>utf8mb4_general_ci</TD></TR><TR><TD>sakila</TD><TD>rewards_report</TD><TD>PROCEDURE</TD><TD>root@localhost</TD><TD>2021-03-25 14:54:00</TD><TD>2021-03-25 14:54:00</TD><TD>DEFINER</TD><TD>Provides a customizable report on best customers</TD><TD>utf8mb4</TD><TD>utf8mb4_general_ci</TD><TD>utf8mb4_general_ci</TD></TR></TABLE>"
      ]
     },
     "metadata": {},
     "output_type": "display_data"
    }
   ],
   "source": [
    "show procedure status where Db='sakila';"
   ]
  },
  {
   "cell_type": "markdown",
   "id": "hawaiian-bradley",
   "metadata": {},
   "source": [
    "El siguente ejemplo tomado del archivo `sakila-schema.sql`, crea un procedimiento que consulta el número de películas que aún quedan en stock en alguna de las tiendas cuando se ingresan los identificadores de la peĺícula y la tienda."
   ]
  },
  {
   "cell_type": "code",
   "execution_count": null,
   "id": "unknown-payday",
   "metadata": {},
   "outputs": [],
   "source": [
    "use sakila;"
   ]
  },
  {
   "cell_type": "code",
   "execution_count": null,
   "id": "stopped-correspondence",
   "metadata": {},
   "outputs": [],
   "source": [
    "DELIMITER $$\n",
    "\n",
    "CREATE PROCEDURE film_in_stock(IN p_film_id INT, IN p_store_id INT, OUT p_film_count INT)\n",
    "READS SQL DATA\n",
    "BEGIN\n",
    "     SELECT inventory_id\n",
    "     FROM inventory\n",
    "     WHERE film_id = p_film_id\n",
    "     AND store_id = p_store_id\n",
    "     AND inventory_in_stock(inventory_id);\n",
    "\n",
    "     SELECT COUNT(*)\n",
    "     FROM inventory\n",
    "     WHERE film_id = p_film_id\n",
    "     AND store_id = p_store_id\n",
    "     AND inventory_in_stock(inventory_id)\n",
    "     INTO p_film_count;\n",
    "END $$\n",
    "\n",
    "DELIMITER ;"
   ]
  },
  {
   "cell_type": "markdown",
   "id": "robust-redhead",
   "metadata": {},
   "source": [
    "### 5.2 Triggers"
   ]
  },
  {
   "cell_type": "markdown",
   "id": "pursuant-valley",
   "metadata": {},
   "source": [
    "Un *trigger* o disparador es un objeto en la base de datos que está asociado a una tabla y que activa una sentencia SQL cuando un evento ocurre en ella.\n",
    "Los eventos sobre una tabla que activan el disparador están relacionados con las sentencias INSERT, UPDATE o DELETE."
   ]
  },
  {
   "cell_type": "markdown",
   "id": "about-stomach",
   "metadata": {},
   "source": [
    "Los disparadores almacenados en la base de datos **sakila** son:"
   ]
  },
  {
   "cell_type": "code",
   "execution_count": null,
   "id": "together-junior",
   "metadata": {},
   "outputs": [],
   "source": []
  },
  {
   "cell_type": "markdown",
   "id": "documented-protection",
   "metadata": {},
   "source": [
    "El siguente ejemplo tomado del archivo `sakila-schema.sql`, crea un disparador que elimina automáticamente la sinopsis (descripción de la trama) de la tabla `film_text`, luego de que el administrador elimina el registro de una película en particular de la tabla `film`."
   ]
  },
  {
   "cell_type": "code",
   "execution_count": null,
   "id": "decreased-hopkins",
   "metadata": {},
   "outputs": [],
   "source": [
    "DELIMITER ;;\n",
    "\n",
    "CREATE TRIGGER `del_film` AFTER DELETE ON `film` FOR EACH ROW BEGIN\n",
    "    DELETE FROM film_text WHERE film_id = old.film_id;\n",
    "  END;;"
   ]
  },
  {
   "cell_type": "markdown",
   "id": "expected-potato",
   "metadata": {},
   "source": [
    "### 5.3 Funciones"
   ]
  },
  {
   "cell_type": "markdown",
   "id": "present-meditation",
   "metadata": {},
   "source": [
    "Una función ejecuta y aplica una serie de operaciones definidas por el usuario a los valores o variables de entrada y retorna un resultado que, generalmente, es otro valor (valor de salida). Actúan de forma similar a las funciones nativas del motor de consulta de las bases de datos. A diferencia de los procedimientos que se invocan con la sentencia CALL, las funciones se pueden invocar dentro de otros comandos o sentencias SQL."
   ]
  },
  {
   "cell_type": "markdown",
   "id": "interior-sacramento",
   "metadata": {},
   "source": [
    "Uno de los varios ejemplos de funciones que contiene el archivo `objects.sql` muestra el código para crear una función que retorne el nombre del empleado cuando se ingresa el identificador como valor de entrada."
   ]
  },
  {
   "cell_type": "code",
   "execution_count": null,
   "id": "processed-presentation",
   "metadata": {},
   "outputs": [],
   "source": [
    "delimiter //\n",
    "\n",
    "create function emp_name (employee_id int)\n",
    "returns varchar(32)\n",
    "reads SQL data\n",
    "begin\n",
    "    return (\n",
    "        select\n",
    "            concat(first_name, ' ', last_name) as name\n",
    "        from\n",
    "            employees\n",
    "        where\n",
    "            emp_no = employee_id\n",
    "    );\n",
    "end//"
   ]
  },
  {
   "cell_type": "markdown",
   "id": "rough-pastor",
   "metadata": {},
   "source": [
    "Por su parte, las funciones almacenadas en la base de datos **sakila** son:"
   ]
  },
  {
   "cell_type": "code",
   "execution_count": 8,
   "id": "intelligent-imagination",
   "metadata": {},
   "outputs": [
    {
     "data": {
      "text/html": [
       "<TABLE BORDER=1><TR><TH>Db</TH><TH>Name</TH><TH>Type</TH><TH>Definer</TH><TH>Modified</TH><TH>Created</TH><TH>Security_type</TH><TH>Comment</TH><TH>character_set_client</TH><TH>collation_connection</TH><TH>Database Collation</TH></TR><TR><TD>sakila</TD><TD>get_customer_balance</TD><TD>FUNCTION</TD><TD>root@localhost</TD><TD>2021-03-25 14:54:00</TD><TD>2021-03-25 14:54:00</TD><TD>DEFINER</TD><TD></TD><TD>utf8mb4</TD><TD>utf8mb4_general_ci</TD><TD>utf8mb4_general_ci</TD></TR><TR><TD>sakila</TD><TD>inventory_held_by_customer</TD><TD>FUNCTION</TD><TD>root@localhost</TD><TD>2021-03-25 14:54:00</TD><TD>2021-03-25 14:54:00</TD><TD>DEFINER</TD><TD></TD><TD>utf8mb4</TD><TD>utf8mb4_general_ci</TD><TD>utf8mb4_general_ci</TD></TR><TR><TD>sakila</TD><TD>inventory_in_stock</TD><TD>FUNCTION</TD><TD>root@localhost</TD><TD>2021-03-25 14:54:00</TD><TD>2021-03-25 14:54:00</TD><TD>DEFINER</TD><TD></TD><TD>utf8mb4</TD><TD>utf8mb4_general_ci</TD><TD>utf8mb4_general_ci</TD></TR></TABLE>"
      ]
     },
     "metadata": {},
     "output_type": "display_data"
    }
   ],
   "source": [
    "show function status where Db='sakila';"
   ]
  },
  {
   "cell_type": "markdown",
   "id": "distributed-shift",
   "metadata": {},
   "source": [
    "La función `get_customer_balance` devuelve el saldo a favor o en contra que tiene un cliente con las tiendas de alquiler de DVD's en una fecha determinada cuando se ingresan como valores de entrada el identificador del cliente y la fecha en cuestión. La funcion ejecuta tres consultas a las tablas `rental`, `inventory`, `film` y `payments` para obtener la suma hasta la fecha de interés de todos los cobros por tarifa de alquiler, multas por retraso en la devolución y pagos hechos por el cliente. El resultado final es la suma de los dos primeros cobros menos los pagos."
   ]
  },
  {
   "cell_type": "code",
   "execution_count": null,
   "id": "outer-bankruptcy",
   "metadata": {},
   "outputs": [],
   "source": [
    "DELIMITER $$\n",
    "\n",
    "CREATE FUNCTION get_customer_balance(p_customer_id INT, p_effective_date DATETIME) RETURNS DECIMAL(5,2)\n",
    "    DETERMINISTIC\n",
    "    READS SQL DATA\n",
    "BEGIN\n",
    "\n",
    "       #OK, WE NEED TO CALCULATE THE CURRENT BALANCE GIVEN A CUSTOMER_ID AND A DATE\n",
    "       #THAT WE WANT THE BALANCE TO BE EFFECTIVE FOR. THE BALANCE IS:\n",
    "       #   1) RENTAL FEES FOR ALL PREVIOUS RENTALS\n",
    "       #   2) ONE DOLLAR FOR EVERY DAY THE PREVIOUS RENTALS ARE OVERDUE\n",
    "       #   3) IF A FILM IS MORE THAN RENTAL_DURATION * 2 OVERDUE, CHARGE THE REPLACEMENT_COST\n",
    "       #   4) SUBTRACT ALL PAYMENTS MADE BEFORE THE DATE SPECIFIED\n",
    "\n",
    "  DECLARE v_rentfees DECIMAL(5,2); #FEES PAID TO RENT THE VIDEOS INITIALLY\n",
    "  DECLARE v_overfees INTEGER;      #LATE FEES FOR PRIOR RENTALS\n",
    "  DECLARE v_payments DECIMAL(5,2); #SUM OF PAYMENTS MADE PREVIOUSLY\n",
    "\n",
    "  SELECT IFNULL(SUM(film.rental_rate),0) INTO v_rentfees\n",
    "    FROM film, inventory, rental\n",
    "    WHERE film.film_id = inventory.film_id\n",
    "      AND inventory.inventory_id = rental.inventory_id\n",
    "      AND rental.rental_date <= p_effective_date\n",
    "      AND rental.customer_id = p_customer_id;\n",
    "\n",
    "  SELECT IFNULL(SUM(IF((TO_DAYS(rental.return_date) - TO_DAYS(rental.rental_date)) > film.rental_duration,\n",
    "        ((TO_DAYS(rental.return_date) - TO_DAYS(rental.rental_date)) - film.rental_duration),0)),0) INTO v_overfees\n",
    "    FROM rental, inventory, film\n",
    "    WHERE film.film_id = inventory.film_id\n",
    "      AND inventory.inventory_id = rental.inventory_id\n",
    "      AND rental.rental_date <= p_effective_date\n",
    "      AND rental.customer_id = p_customer_id;\n",
    "\n",
    "\n",
    "  SELECT IFNULL(SUM(payment.amount),0) INTO v_payments\n",
    "    FROM payment\n",
    "\n",
    "    WHERE payment.payment_date <= p_effective_date\n",
    "    AND payment.customer_id = p_customer_id;\n",
    "\n",
    "  RETURN v_rentfees + v_overfees - v_payments;\n",
    "END $$\n",
    "\n",
    "DELIMITER ;"
   ]
  },
  {
   "cell_type": "markdown",
   "id": "expressed-venezuela",
   "metadata": {},
   "source": [
    "## 6. Análisis estadístico con Python"
   ]
  },
  {
   "cell_type": "markdown",
   "id": "equivalent-honolulu",
   "metadata": {},
   "source": [
    "El análisis estadístico de algunas consultas a la base de datos **sakila** se realizan en notebook de python: [db-essay-py.pynb](db-essay.pynb)."
   ]
  }
 ],
 "metadata": {
  "kernelspec": {
   "display_name": "MariaDB",
   "language": "SQL",
   "name": "mariadb_kernel"
  },
  "language_info": {
   "file_extension": ".sql",
   "mimetype": "text/plain",
   "name": "SQL"
  }
 },
 "nbformat": 4,
 "nbformat_minor": 5
}
